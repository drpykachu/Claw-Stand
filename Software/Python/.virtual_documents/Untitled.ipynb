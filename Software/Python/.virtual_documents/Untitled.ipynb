import pyvista as pv
import trimesh
import numpy as np



pip install trimesh



