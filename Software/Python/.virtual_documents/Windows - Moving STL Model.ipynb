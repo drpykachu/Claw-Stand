import pyvista as pv
import trimesh
import numpy as np
import time




# === Load STL file ===
stl_path = r"C:\Users\Pyka\Desktop\New folder\Motor A Housing.stl"
mesh = trimesh.load_mesh(stl_path)
points, faces = mesh.vertices, mesh.faces

# === Convert to PyVista mesh ===
pv_mesh = pv.PolyData(points, np.hstack([np.full((faces.shape[0], 1), 3), faces]))

plotter = pv.Plotter()
plotter.add_mesh(pv_mesh.copy(), color="lightgray", opacity=0.5)

# === Static items ===
point_test = np.array([[1.0, 1.0, 1.0]])
plotter.add_points(point_test, point_size=10, color='red', render_points_as_spheres=True)

line_test = np.array([[1.0, 1.0, 1.0], [10.0, 10.0, 10.0]])
plotter.add_lines(line_test, width=15, color='black')

# === Moving line (we'll keep a handle to it) ===
line_test2 = np.array([[1.0, 0.0, 1.0], [5.0, 5.0, 10.0]])
line_actor = plotter.add_lines(line_test2, width=15, color='blue')

plotter.show_axes()
plotter.show()

# === Animation callback ===
offset = 0.0
for k in range(50):
    offset += 5
    new_line = line_test2 + np.array([offset, 0.0, 0.0])
    
    # Update points
    line_actor.mapper.dataset.points[:] = new_line
    
    # Notify VTK
    line_actor.mapper.dataset.Modified()
    
    # Refresh the scene
    plotter.render()
    time.sleep(0.05)
    
# === Run animation ===
plotter.close()






