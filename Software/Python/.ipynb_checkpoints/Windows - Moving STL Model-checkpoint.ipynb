{
 "cells": [
  {
   "cell_type": "code",
   "execution_count": 1,
   "id": "8f77ac25-1c0c-440b-9a9b-120a18831192",
   "metadata": {},
   "outputs": [],
   "source": [
    "import pyvista as pv\n",
    "import trimesh\n",
    "import numpy as np\n",
    "import time\n"
   ]
  },
  {
   "cell_type": "code",
   "execution_count": 2,
   "id": "994de956-48f6-41da-beae-4626684f3df1",
   "metadata": {},
   "outputs": [
    {
     "data": {
      "application/vnd.jupyter.widget-view+json": {
       "model_id": "8e3a1dc44294408baaeb47faa424415a",
       "version_major": 2,
       "version_minor": 0
      },
      "text/plain": [
       "Widget(value='<iframe src=\"http://localhost:55826/index.html?ui=P_0x1f7be3b4470_0&reconnect=auto\" class=\"pyvis…"
      ]
     },
     "metadata": {},
     "output_type": "display_data"
    }
   ],
   "source": [
    "\n",
    "# === Load STL file ===\n",
    "stl_path = r\"C:\\Users\\Pyka\\Desktop\\New folder\\Motor A Housing.stl\"\n",
    "mesh = trimesh.load_mesh(stl_path)\n",
    "points, faces = mesh.vertices, mesh.faces\n",
    "\n",
    "# === Convert to PyVista mesh ===\n",
    "pv_mesh = pv.PolyData(points, np.hstack([np.full((faces.shape[0], 1), 3), faces]))\n",
    "\n",
    "plotter = pv.Plotter()\n",
    "plotter.add_mesh(pv_mesh.copy(), color=\"lightgray\", opacity=0.5)\n",
    "\n",
    "# === Static items ===\n",
    "point_test = np.array([[1.0, 1.0, 1.0]])\n",
    "plotter.add_points(point_test, point_size=10, color='red', render_points_as_spheres=True)\n",
    "\n",
    "line_test = np.array([[1.0, 1.0, 1.0], [10.0, 10.0, 10.0]])\n",
    "plotter.add_lines(line_test, width=15, color='black')\n",
    "\n",
    "# === Moving line (we'll keep a handle to it) ===\n",
    "line_test2 = np.array([[1.0, 0.0, 1.0], [5.0, 5.0, 10.0]])\n",
    "line_actor = plotter.add_lines(line_test2, width=15, color='blue')\n",
    "\n",
    "plotter.show_axes()\n",
    "plotter.show()\n",
    "\n",
    "# === Animation callback ===\n",
    "offset = 0.0\n",
    "for k in range(50):\n",
    "    offset += 5\n",
    "    new_line = line_test2 + np.array([offset, 0.0, 0.0])\n",
    "    \n",
    "    # Update points\n",
    "    line_actor.mapper.dataset.points[:] = new_line\n",
    "    \n",
    "    # Notify VTK\n",
    "    line_actor.mapper.dataset.Modified()\n",
    "    \n",
    "    # Refresh the scene\n",
    "    plotter.render()\n",
    "    time.sleep(0.05)\n",
    "    \n",
    "# === Run animation ===\n",
    "plotter.close()\n",
    "\n",
    "\n"
   ]
  }
 ],
 "metadata": {
  "kernelspec": {
   "display_name": "Python 3 (ipykernel)",
   "language": "python",
   "name": "python3"
  },
  "language_info": {
   "codemirror_mode": {
    "name": "ipython",
    "version": 3
   },
   "file_extension": ".py",
   "mimetype": "text/x-python",
   "name": "python",
   "nbconvert_exporter": "python",
   "pygments_lexer": "ipython3",
   "version": "3.12.3"
  }
 },
 "nbformat": 4,
 "nbformat_minor": 5
}
