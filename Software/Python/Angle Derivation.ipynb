{
 "cells": [
  {
   "cell_type": "markdown",
   "id": "2f7e38fb-421b-49ac-b734-0e1ab85d81ae",
   "metadata": {},
   "source": [
    "# Angle Derivation Attempt 1 - Ella's method"
   ]
  },
  {
   "cell_type": "markdown",
   "id": "08b64c75-dad4-4f04-9848-7fc2a0663d59",
   "metadata": {},
   "source": [
    "## Diagram"
   ]
  },
  {
   "cell_type": "markdown",
   "id": "0a685e1e-2701-408d-a2e9-2bc9754c3283",
   "metadata": {},
   "source": [
    "<img src=\"Ball_and_Stick_Diagram.png\" alt=\"drawing\" width=\"700\"/>"
   ]
  },
  {
   "cell_type": "markdown",
   "id": "72b43667-612b-4a98-8d2c-c5a343f0db5a",
   "metadata": {},
   "source": [
    "## Derivation - going from a point in space $(X_p,Y_p,Z_p)$ to the angles $(θ_a, θ_b, θ_c)$"
   ]
  },
  {
   "cell_type": "markdown",
   "id": "a3c9d5d6-7f5a-47d5-b027-aa523364e248",
   "metadata": {},
   "source": [
    "$ \\angle\\;AB \\; = \\;\\theta_a $  \n",
    "$ \\angle\\;BC \\; = \\;\\theta_b $  \n",
    "$ \\angle\\;CT \\; = \\;\\theta_c $  \n",
    "$ \\theta_d \\; = \\;\\theta_b -\\theta_c $  "
   ]
  },
  {
   "cell_type": "markdown",
   "id": "a16a804a-47ab-4575-b1fd-3b4446976cb7",
   "metadata": {},
   "source": [
    "### Deriving $ Z_p$\n",
    "\n",
    "$ Z_p = B\\;sin\\theta_a \\; + \\; C'\\;sin\\theta_a \\; + \\; T'\\; sin\\;\\theta_a \\; + \\; A$  \n",
    "$\\rightarrow \\; C' \\; = \\; C\\;sin\\theta_b$  \n",
    "$\\rightarrow \\; T' \\; = \\; T\\;sin\\theta_d$  \n",
    "\n",
    "$Eq\\; (1):\\; Z_p = B\\;sin\\theta_a \\; + \\; C\\;sin\\theta_b\\;sin\\theta_a \\; + \\; T\\;sin\\theta_d\\; sin\\;\\theta_a\\; + \\; A $  \n",
    "\n",
    "  "
   ]
  },
  {
   "cell_type": "markdown",
   "id": "a79a5b13-fabb-4a34-849f-d69ec40aee73",
   "metadata": {},
   "source": [
    "### Deriving $ Y_p$\n",
    "\n",
    "$ Y_p = B\\;cos\\theta_a \\; + \\; C'\\;cos\\theta_a \\; + \\; T'\\; cos\\;\\theta_a $  \n",
    "$\\rightarrow \\; C' \\; = \\; C\\;sin\\theta_b$  \n",
    "$\\rightarrow \\; T' \\; = \\; T\\;sin\\theta_d$  \n",
    "\n",
    "$Eq\\; (2):\\; Y_p = B\\;cos\\theta_a \\; + \\; C\\;sin\\theta_b\\;cos\\theta_a \\; + \\; T\\;sin\\theta_d\\; cos\\theta_a $  "
   ]
  },
  {
   "cell_type": "markdown",
   "id": "b8d20657-aca2-4fd2-9305-006b6e23e8e2",
   "metadata": {},
   "source": [
    "### Deriving $ X_p$\n",
    "\n",
    "$Eq\\; (3):\\;  X_p = \\; C\\;cos\\theta_b \\; + \\; T\\; cos\\;\\theta_d $"
   ]
  },
  {
   "cell_type": "markdown",
   "id": "338a13ea-003b-47e5-bf3f-5c96daa01f92",
   "metadata": {},
   "source": [
    "### Step 1 - Solving $ \\theta_a$\n",
    "\n",
    "\n",
    "Visually, this is true, and is a combination of Eq (1) and Eq(2):  \n",
    "$ $  \n",
    "$ tan\\;\\theta_a \\; = \\; \\frac{Z_p-A}{Y_p} $  \n",
    "$ \\theta_a \\; = \\; atan2(\\frac{Z_p-A}{Y_p}) $"
   ]
  },
  {
   "cell_type": "markdown",
   "id": "e5ccbc5f-10eb-4fc0-93c4-db0726704405",
   "metadata": {},
   "source": [
    "### Step 2 - Solving $ \\theta_b$\n"
   ]
  }
 ],
 "metadata": {
  "kernelspec": {
   "display_name": "Python 3 (ipykernel)",
   "language": "python",
   "name": "python3"
  },
  "language_info": {
   "codemirror_mode": {
    "name": "ipython",
    "version": 3
   },
   "file_extension": ".py",
   "mimetype": "text/x-python",
   "name": "python",
   "nbconvert_exporter": "python",
   "pygments_lexer": "ipython3",
   "version": "3.12.3"
  }
 },
 "nbformat": 4,
 "nbformat_minor": 5
}
